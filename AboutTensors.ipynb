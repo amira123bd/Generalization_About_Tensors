{
  "nbformat": 4,
  "nbformat_minor": 0,
  "metadata": {
    "colab": {
      "provenance": [],
      "authorship_tag": "ABX9TyNeDXKao9mn3p1/iMxdWth2",
      "include_colab_link": true
    },
    "kernelspec": {
      "name": "python3",
      "display_name": "Python 3"
    },
    "language_info": {
      "name": "python"
    }
  },
  "cells": [
    {
      "cell_type": "markdown",
      "metadata": {
        "id": "view-in-github",
        "colab_type": "text"
      },
      "source": [
        "<a href=\"https://colab.research.google.com/github/amira123bd/Generalization_About_Tensors/blob/master/AboutTensors.ipynb\" target=\"_parent\"><img src=\"https://colab.research.google.com/assets/colab-badge.svg\" alt=\"Open In Colab\"/></a>"
      ]
    },
    {
      "cell_type": "code",
      "execution_count": null,
      "metadata": {
        "id": "D4jXt3H0ekYJ"
      },
      "outputs": [],
      "source": [
        "import tensorflow as tf"
      ]
    },
    {
      "cell_type": "markdown",
      "source": [
        "**About Tensors**"
      ],
      "metadata": {
        "id": "RANWaG36o1bO"
      }
    },
    {
      "cell_type": "markdown",
      "source": [
        "Tensors=simply are vectors generalized to a higher dimensions, they are created to store and carry out computations on matrices efficiently"
      ],
      "metadata": {
        "id": "V9uUJ-mIo4bV"
      }
    },
    {
      "cell_type": "markdown",
      "source": [
        "**create tensors**"
      ],
      "metadata": {
        "id": "bQzCA7y6evLt"
      }
    },
    {
      "cell_type": "code",
      "source": [
        "string = tf.Variable('hi this is Amira',tf.string)"
      ],
      "metadata": {
        "id": "E83tv0MDeprW"
      },
      "execution_count": null,
      "outputs": []
    },
    {
      "cell_type": "code",
      "source": [
        "print(string.shape)  \n"
      ],
      "metadata": {
        "colab": {
          "base_uri": "https://localhost:8080/"
        },
        "id": "G90DATONfAtP",
        "outputId": "41dc9eac-abf4-4b51-8c4a-0eebb6d193bf"
      },
      "execution_count": null,
      "outputs": [
        {
          "output_type": "stream",
          "name": "stdout",
          "text": [
            "()\n"
          ]
        }
      ]
    },
    {
      "cell_type": "markdown",
      "source": [
        "**Rank/Degree of a tensor**"
      ],
      "metadata": {
        "id": "HKkdnwNufSNA"
      }
    },
    {
      "cell_type": "markdown",
      "source": [
        "Rank means = the number of dimensions included"
      ],
      "metadata": {
        "id": "mehx8y2AftvD"
      }
    },
    {
      "cell_type": "code",
      "source": [
        "tf.rank(string) ## rank =0 because simply it is one thing "
      ],
      "metadata": {
        "colab": {
          "base_uri": "https://localhost:8080/"
        },
        "id": "_sbOYJHZfzv2",
        "outputId": "6d3cde45-b908-4c7c-f581-ee875c8df7b2"
      },
      "execution_count": null,
      "outputs": [
        {
          "output_type": "execute_result",
          "data": {
            "text/plain": [
              "<tf.Tensor: shape=(), dtype=int32, numpy=0>"
            ]
          },
          "metadata": {},
          "execution_count": 8
        }
      ]
    },
    {
      "cell_type": "code",
      "source": [
        "tab=tf.Variable(['hi','hii'],tf.string)\n",
        "tf.rank(tab) ## 1D "
      ],
      "metadata": {
        "colab": {
          "base_uri": "https://localhost:8080/"
        },
        "id": "spYN6fbmf7D4",
        "outputId": "f2245ccf-f2bc-419f-9605-b0a18320c4e2"
      },
      "execution_count": null,
      "outputs": [
        {
          "output_type": "execute_result",
          "data": {
            "text/plain": [
              "<tf.Tensor: shape=(), dtype=int32, numpy=1>"
            ]
          },
          "metadata": {},
          "execution_count": 15
        }
      ]
    },
    {
      "cell_type": "markdown",
      "source": [
        "**Shape**"
      ],
      "metadata": {
        "id": "TAV_Qhqqgtwb"
      }
    },
    {
      "cell_type": "markdown",
      "source": [
        "Amount of elements in our tensor"
      ],
      "metadata": {
        "id": "8WJ0KJ2wgxsz"
      }
    },
    {
      "cell_type": "code",
      "source": [
        "tab.shape"
      ],
      "metadata": {
        "colab": {
          "base_uri": "https://localhost:8080/"
        },
        "id": "ybOJmm86g1Cl",
        "outputId": "6227bf6a-dee0-4cdc-b678-fc3d0a9fcc96"
      },
      "execution_count": null,
      "outputs": [
        {
          "output_type": "execute_result",
          "data": {
            "text/plain": [
              "TensorShape([2])"
            ]
          },
          "metadata": {},
          "execution_count": 16
        }
      ]
    },
    {
      "cell_type": "markdown",
      "source": [
        "**Reshaping**"
      ],
      "metadata": {
        "id": "aIsfkfkohy03"
      }
    },
    {
      "cell_type": "code",
      "source": [
        "tensor1=tf.ones([1,2,3])\n",
        "print(tensor1)"
      ],
      "metadata": {
        "colab": {
          "base_uri": "https://localhost:8080/"
        },
        "id": "LgqlT-sShDMo",
        "outputId": "5470a258-019d-4364-f742-7a5878168989"
      },
      "execution_count": null,
      "outputs": [
        {
          "output_type": "stream",
          "name": "stdout",
          "text": [
            "tf.Tensor(\n",
            "[[[1. 1. 1.]\n",
            "  [1. 1. 1.]]], shape=(1, 2, 3), dtype=float32)\n"
          ]
        }
      ]
    },
    {
      "cell_type": "code",
      "source": [
        "tensor1=tf.reshape(tensor1,[2,3,1])\n",
        "print(tensor1)"
      ],
      "metadata": {
        "colab": {
          "base_uri": "https://localhost:8080/"
        },
        "id": "vtstvfHAiBJF",
        "outputId": "74cbbf89-04ff-445c-a46c-d5910eae4d6a"
      },
      "execution_count": null,
      "outputs": [
        {
          "output_type": "stream",
          "name": "stdout",
          "text": [
            "tf.Tensor(\n",
            "[[[1.]\n",
            "  [1.]\n",
            "  [1.]]\n",
            "\n",
            " [[1.]\n",
            "  [1.]\n",
            "  [1.]]], shape=(2, 3, 1), dtype=float32)\n"
          ]
        }
      ]
    },
    {
      "cell_type": "code",
      "source": [
        "tensor1=tf.reshape(tensor1,[3,-1])##-1: means you have to infer (3*2*1=6 ==> [3,2])"
      ],
      "metadata": {
        "id": "vMSgPz1diQ0V"
      },
      "execution_count": null,
      "outputs": []
    },
    {
      "cell_type": "code",
      "source": [
        "print(tensor1)"
      ],
      "metadata": {
        "colab": {
          "base_uri": "https://localhost:8080/"
        },
        "id": "Haz_MmJEitgD",
        "outputId": "ca4ce312-7d42-466a-bb2c-9ae17bf92ef2"
      },
      "execution_count": null,
      "outputs": [
        {
          "output_type": "stream",
          "name": "stdout",
          "text": [
            "tf.Tensor(\n",
            "[[1. 1.]\n",
            " [1. 1.]\n",
            " [1. 1.]], shape=(3, 2), dtype=float32)\n"
          ]
        }
      ]
    },
    {
      "cell_type": "markdown",
      "source": [
        "**types of tensors**"
      ],
      "metadata": {
        "id": "eI9PvPjtjSar"
      }
    },
    {
      "cell_type": "markdown",
      "source": [
        "*   Variable ==> the only one that can be changed during execution\n",
        "\n",
        "*   Constant\n",
        "*   Placeholder\n",
        "*   SparseTensor\n",
        "\n"
      ],
      "metadata": {
        "id": "I1mlZ_YXjayv"
      }
    },
    {
      "cell_type": "code",
      "source": [],
      "metadata": {
        "id": "7C-O5YnVjO5u"
      },
      "execution_count": null,
      "outputs": []
    },
    {
      "cell_type": "code",
      "source": [],
      "metadata": {
        "id": "Lbloc1h_knX7"
      },
      "execution_count": null,
      "outputs": []
    },
    {
      "cell_type": "code",
      "source": [],
      "metadata": {
        "id": "_FEs_g0akq54"
      },
      "execution_count": null,
      "outputs": []
    }
  ]
}